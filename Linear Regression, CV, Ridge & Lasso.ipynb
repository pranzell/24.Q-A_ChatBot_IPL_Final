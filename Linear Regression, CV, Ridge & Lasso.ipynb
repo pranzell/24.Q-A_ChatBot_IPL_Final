{
 "cells": [
  {
   "cell_type": "markdown",
   "metadata": {},
   "source": [
    "# Linear regression using scikit-Learn"
   ]
  },
  {
   "cell_type": "markdown",
   "metadata": {},
   "source": [
    "**"
   ]
  },
  {
   "attachments": {},
   "cell_type": "markdown",
   "metadata": {},
   "source": [
    "<img src='Data/1.PNG'>"
   ]
  },
  {
   "attachments": {},
   "cell_type": "markdown",
   "metadata": {},
   "source": [
    "<img src='Data/2.PNG'>"
   ]
  },
  {
   "attachments": {},
   "cell_type": "markdown",
   "metadata": {},
   "source": [
    "<img src='Data/3.PNG'>"
   ]
  },
  {
   "cell_type": "markdown",
   "metadata": {},
   "source": [
    "## AIM"
   ]
  },
  {
   "cell_type": "raw",
   "metadata": {},
   "source": [
    "Minimise the Cost/loss/error function to estimate weight of coefficents(β0,β1,β2,β3..., βn) :-\n",
    "\n",
    "i.e. \n",
    "\n",
    "Minimise the sum of sqaures also called as Least Squares Criterion so as to estimate weights of coefficents. "
   ]
  },
  {
   "attachments": {},
   "cell_type": "markdown",
   "metadata": {},
   "source": [
    "<img src='Data/4.PNG'>"
   ]
  },
  {
   "cell_type": "markdown",
   "metadata": {},
   "source": [
    "_To solve Least Squares Criterion, we have mainly 4 methods:_\n",
    "    1. Calculas (Closed equations/Normal equations)\n",
    "    2. Gradient Descent Algorithm/Stochastic GD\n",
    "    3. Odinary Least Squares (OLS) Algorithm\n",
    "    4. Generalised Least Squares Algorithm"
   ]
  },
  {
   "cell_type": "markdown",
   "metadata": {},
   "source": [
    "** We will use GD Algorithm ** \n",
    "- Gradient Descent is an iterative method to minimize a cost function, and can be applied to minimizing the SSE.\n",
    "- We will dive into this at the end of this notebook..."
   ]
  },
  {
   "cell_type": "markdown",
   "metadata": {},
   "source": [
    "# **Python Code**"
   ]
  },
  {
   "cell_type": "markdown",
   "metadata": {},
   "source": [
    "## Imports"
   ]
  },
  {
   "cell_type": "code",
   "execution_count": 2,
   "metadata": {
    "scrolled": true
   },
   "outputs": [],
   "source": [
    "import pandas as pd\n",
    "import numpy as np\n",
    "import scipy.stats as stats\n",
    "\n",
    "import sklearn\n",
    "from sklearn import cross_validation, metrics, model_selection\n",
    "from sklearn.linear_model import LinearRegression\n",
    "from sklearn.cross_validation import cross_val_score, cross_val_predict\n",
    "\n",
    "# Ridge\n",
    "from sklearn.linear_model import Ridge\n",
    "from sklearn.linear_model import Lasso\n",
    "\n",
    "import matplotlib.pyplot as plt\n",
    "%matplotlib inline\n",
    "import seaborn as sns\n",
    "sns.set(style=\"ticks\", color_codes=True)"
   ]
  },
  {
   "cell_type": "markdown",
   "metadata": {},
   "source": [
    "## Data "
   ]
  },
  {
   "cell_type": "markdown",
   "metadata": {},
   "source": [
    "- Data set = Boston Housing Data from UCI"
   ]
  },
  {
   "cell_type": "code",
   "execution_count": 3,
   "metadata": {},
   "outputs": [
    {
     "data": {
      "text/html": [
       "<div>\n",
       "<style>\n",
       "    .dataframe thead tr:only-child th {\n",
       "        text-align: right;\n",
       "    }\n",
       "\n",
       "    .dataframe thead th {\n",
       "        text-align: left;\n",
       "    }\n",
       "\n",
       "    .dataframe tbody tr th {\n",
       "        vertical-align: top;\n",
       "    }\n",
       "</style>\n",
       "<table border=\"1\" class=\"dataframe\">\n",
       "  <thead>\n",
       "    <tr style=\"text-align: right;\">\n",
       "      <th></th>\n",
       "      <th>CRIM</th>\n",
       "      <th>ZN</th>\n",
       "      <th>INDUS</th>\n",
       "      <th>CHAS</th>\n",
       "      <th>NOX</th>\n",
       "      <th>RM</th>\n",
       "      <th>AGE</th>\n",
       "      <th>DIS</th>\n",
       "      <th>RAD</th>\n",
       "      <th>TAX</th>\n",
       "      <th>PTRATIO</th>\n",
       "      <th>B</th>\n",
       "      <th>LSTAT</th>\n",
       "      <th>PRICE</th>\n",
       "    </tr>\n",
       "  </thead>\n",
       "  <tbody>\n",
       "    <tr>\n",
       "      <th>0</th>\n",
       "      <td>0.00632</td>\n",
       "      <td>18.0</td>\n",
       "      <td>2.31</td>\n",
       "      <td>0</td>\n",
       "      <td>0.538</td>\n",
       "      <td>6.575</td>\n",
       "      <td>65.2</td>\n",
       "      <td>4.0900</td>\n",
       "      <td>1</td>\n",
       "      <td>296</td>\n",
       "      <td>15.3</td>\n",
       "      <td>396.90</td>\n",
       "      <td>4.98</td>\n",
       "      <td>24.0</td>\n",
       "    </tr>\n",
       "    <tr>\n",
       "      <th>1</th>\n",
       "      <td>0.02731</td>\n",
       "      <td>0.0</td>\n",
       "      <td>7.07</td>\n",
       "      <td>0</td>\n",
       "      <td>0.469</td>\n",
       "      <td>6.421</td>\n",
       "      <td>78.9</td>\n",
       "      <td>4.9671</td>\n",
       "      <td>2</td>\n",
       "      <td>242</td>\n",
       "      <td>17.8</td>\n",
       "      <td>396.90</td>\n",
       "      <td>9.14</td>\n",
       "      <td>21.6</td>\n",
       "    </tr>\n",
       "    <tr>\n",
       "      <th>2</th>\n",
       "      <td>0.02729</td>\n",
       "      <td>0.0</td>\n",
       "      <td>7.07</td>\n",
       "      <td>0</td>\n",
       "      <td>0.469</td>\n",
       "      <td>7.185</td>\n",
       "      <td>61.1</td>\n",
       "      <td>4.9671</td>\n",
       "      <td>2</td>\n",
       "      <td>242</td>\n",
       "      <td>17.8</td>\n",
       "      <td>392.83</td>\n",
       "      <td>4.03</td>\n",
       "      <td>34.7</td>\n",
       "    </tr>\n",
       "    <tr>\n",
       "      <th>3</th>\n",
       "      <td>0.03237</td>\n",
       "      <td>0.0</td>\n",
       "      <td>2.18</td>\n",
       "      <td>0</td>\n",
       "      <td>0.458</td>\n",
       "      <td>6.998</td>\n",
       "      <td>45.8</td>\n",
       "      <td>6.0622</td>\n",
       "      <td>3</td>\n",
       "      <td>222</td>\n",
       "      <td>18.7</td>\n",
       "      <td>394.63</td>\n",
       "      <td>2.94</td>\n",
       "      <td>33.4</td>\n",
       "    </tr>\n",
       "    <tr>\n",
       "      <th>4</th>\n",
       "      <td>0.06905</td>\n",
       "      <td>0.0</td>\n",
       "      <td>2.18</td>\n",
       "      <td>0</td>\n",
       "      <td>0.458</td>\n",
       "      <td>7.147</td>\n",
       "      <td>54.2</td>\n",
       "      <td>6.0622</td>\n",
       "      <td>3</td>\n",
       "      <td>222</td>\n",
       "      <td>18.7</td>\n",
       "      <td>396.90</td>\n",
       "      <td>5.33</td>\n",
       "      <td>36.2</td>\n",
       "    </tr>\n",
       "  </tbody>\n",
       "</table>\n",
       "</div>"
      ],
      "text/plain": [
       "      CRIM    ZN  INDUS  CHAS    NOX     RM   AGE     DIS  RAD  TAX  PTRATIO  \\\n",
       "0  0.00632  18.0   2.31     0  0.538  6.575  65.2  4.0900    1  296     15.3   \n",
       "1  0.02731   0.0   7.07     0  0.469  6.421  78.9  4.9671    2  242     17.8   \n",
       "2  0.02729   0.0   7.07     0  0.469  7.185  61.1  4.9671    2  242     17.8   \n",
       "3  0.03237   0.0   2.18     0  0.458  6.998  45.8  6.0622    3  222     18.7   \n",
       "4  0.06905   0.0   2.18     0  0.458  7.147  54.2  6.0622    3  222     18.7   \n",
       "\n",
       "        B  LSTAT  PRICE  \n",
       "0  396.90   4.98   24.0  \n",
       "1  396.90   9.14   21.6  \n",
       "2  392.83   4.03   34.7  \n",
       "3  394.63   2.94   33.4  \n",
       "4  396.90   5.33   36.2  "
      ]
     },
     "execution_count": 3,
     "metadata": {},
     "output_type": "execute_result"
    }
   ],
   "source": [
    "data = pd.read_csv('Data/1 - Boston_housing_data.csv')\n",
    "data.head()"
   ]
  },
  {
   "cell_type": "raw",
   "metadata": {},
   "source": [
    "y = B1x1 + B2x2 + B3x3 + ... + B13x13 \n",
    "\n",
    "\n",
    "Legend:\n",
    "\n",
    "B - coeffecient\n",
    "x - Features (CRIM, ZN, INDUS...etc) Total = 13\n",
    "y - Target (PRICE) Total = 1"
   ]
  },
  {
   "cell_type": "code",
   "execution_count": 4,
   "metadata": {
    "collapsed": true
   },
   "outputs": [],
   "source": [
    "# Dataframe\n",
    "X = data.drop(['PRICE'], axis =1)"
   ]
  },
  {
   "cell_type": "code",
   "execution_count": 5,
   "metadata": {
    "collapsed": true
   },
   "outputs": [],
   "source": [
    "# Series\n",
    "Y = data.PRICE"
   ]
  },
  {
   "cell_type": "markdown",
   "metadata": {},
   "source": [
    "## Exploring Features..."
   ]
  },
  {
   "cell_type": "code",
   "execution_count": 6,
   "metadata": {},
   "outputs": [
    {
     "data": {
      "text/plain": [
       "LinearRegression(copy_X=True, fit_intercept=True, n_jobs=1, normalize=False)"
      ]
     },
     "execution_count": 6,
     "metadata": {},
     "output_type": "execute_result"
    }
   ],
   "source": [
    "lm = LinearRegression()\n",
    "\n",
    "lm.fit(X,Y)"
   ]
  },
  {
   "cell_type": "code",
   "execution_count": 7,
   "metadata": {},
   "outputs": [
    {
     "data": {
      "text/plain": [
       "36.491103280361408"
      ]
     },
     "execution_count": 7,
     "metadata": {},
     "output_type": "execute_result"
    }
   ],
   "source": [
    "lm.intercept_"
   ]
  },
  {
   "cell_type": "code",
   "execution_count": 8,
   "metadata": {},
   "outputs": [
    {
     "data": {
      "text/plain": [
       "array([ -1.07170557e-01,   4.63952195e-02,   2.08602395e-02,\n",
       "         2.68856140e+00,  -1.77957587e+01,   3.80475246e+00,\n",
       "         7.51061703e-04,  -1.47575880e+00,   3.05655038e-01,\n",
       "        -1.23293463e-02,  -9.53463555e-01,   9.39251272e-03,\n",
       "        -5.25466633e-01])"
      ]
     },
     "execution_count": 8,
     "metadata": {},
     "output_type": "execute_result"
    }
   ],
   "source": [
    "lm.coef_"
   ]
  },
  {
   "cell_type": "markdown",
   "metadata": {},
   "source": [
    "#### Coeffecients"
   ]
  },
  {
   "cell_type": "code",
   "execution_count": 9,
   "metadata": {},
   "outputs": [
    {
     "data": {
      "text/html": [
       "<div>\n",
       "<style>\n",
       "    .dataframe thead tr:only-child th {\n",
       "        text-align: right;\n",
       "    }\n",
       "\n",
       "    .dataframe thead th {\n",
       "        text-align: left;\n",
       "    }\n",
       "\n",
       "    .dataframe tbody tr th {\n",
       "        vertical-align: top;\n",
       "    }\n",
       "</style>\n",
       "<table border=\"1\" class=\"dataframe\">\n",
       "  <thead>\n",
       "    <tr style=\"text-align: right;\">\n",
       "      <th></th>\n",
       "      <th>Estimated Coefficent Value (Bn)</th>\n",
       "      <th>Features</th>\n",
       "    </tr>\n",
       "  </thead>\n",
       "  <tbody>\n",
       "    <tr>\n",
       "      <th>0</th>\n",
       "      <td>-0.107171</td>\n",
       "      <td>CRIM</td>\n",
       "    </tr>\n",
       "    <tr>\n",
       "      <th>1</th>\n",
       "      <td>0.046395</td>\n",
       "      <td>ZN</td>\n",
       "    </tr>\n",
       "    <tr>\n",
       "      <th>2</th>\n",
       "      <td>0.020860</td>\n",
       "      <td>INDUS</td>\n",
       "    </tr>\n",
       "    <tr>\n",
       "      <th>3</th>\n",
       "      <td>2.688561</td>\n",
       "      <td>CHAS</td>\n",
       "    </tr>\n",
       "    <tr>\n",
       "      <th>4</th>\n",
       "      <td>-17.795759</td>\n",
       "      <td>NOX</td>\n",
       "    </tr>\n",
       "    <tr>\n",
       "      <th>5</th>\n",
       "      <td>3.804752</td>\n",
       "      <td>RM</td>\n",
       "    </tr>\n",
       "    <tr>\n",
       "      <th>6</th>\n",
       "      <td>0.000751</td>\n",
       "      <td>AGE</td>\n",
       "    </tr>\n",
       "    <tr>\n",
       "      <th>7</th>\n",
       "      <td>-1.475759</td>\n",
       "      <td>DIS</td>\n",
       "    </tr>\n",
       "    <tr>\n",
       "      <th>8</th>\n",
       "      <td>0.305655</td>\n",
       "      <td>RAD</td>\n",
       "    </tr>\n",
       "    <tr>\n",
       "      <th>9</th>\n",
       "      <td>-0.012329</td>\n",
       "      <td>TAX</td>\n",
       "    </tr>\n",
       "    <tr>\n",
       "      <th>10</th>\n",
       "      <td>-0.953464</td>\n",
       "      <td>PTRATIO</td>\n",
       "    </tr>\n",
       "    <tr>\n",
       "      <th>11</th>\n",
       "      <td>0.009393</td>\n",
       "      <td>B</td>\n",
       "    </tr>\n",
       "    <tr>\n",
       "      <th>12</th>\n",
       "      <td>-0.525467</td>\n",
       "      <td>LSTAT</td>\n",
       "    </tr>\n",
       "  </tbody>\n",
       "</table>\n",
       "</div>"
      ],
      "text/plain": [
       "    Estimated Coefficent Value (Bn) Features\n",
       "0                         -0.107171     CRIM\n",
       "1                          0.046395       ZN\n",
       "2                          0.020860    INDUS\n",
       "3                          2.688561     CHAS\n",
       "4                        -17.795759      NOX\n",
       "5                          3.804752       RM\n",
       "6                          0.000751      AGE\n",
       "7                         -1.475759      DIS\n",
       "8                          0.305655      RAD\n",
       "9                         -0.012329      TAX\n",
       "10                        -0.953464  PTRATIO\n",
       "11                         0.009393        B\n",
       "12                        -0.525467    LSTAT"
      ]
     },
     "execution_count": 9,
     "metadata": {},
     "output_type": "execute_result"
    }
   ],
   "source": [
    "pd.DataFrame({'Features': X.columns, 'Estimated Coefficent Value (Bn)':lm.coef_}) "
   ]
  },
  {
   "cell_type": "raw",
   "metadata": {},
   "source": [
    "Price = 3.804RM + 2.689CHAS\n",
    "\n",
    "RM, CHAS are the extracted features for this target, as both are having positive values"
   ]
  },
  {
   "cell_type": "code",
   "execution_count": 10,
   "metadata": {},
   "outputs": [
    {
     "data": {
      "image/png": "[encoded data removed]",
      "text/plain": [
       "<matplotlib.figure.Figure at 0xcb29240>"
      ]
     },
     "metadata": {},
     "output_type": "display_data"
    }
   ],
   "source": [
    "'''Scatter Plot between X (RM) & Y (Target)'''\n",
    "plt.scatter(X.RM, Y)\n",
    "plt.xlabel('X (Feature=RM)')\n",
    "plt.ylabel('Y (Target)')\n",
    "plt.show()"
   ]
  },
  {
   "cell_type": "markdown",
   "metadata": {},
   "source": [
    "As you can see that there is a positive correlation between RM and housing prices."
   ]
  },
  {
   "cell_type": "code",
   "execution_count": 11,
   "metadata": {},
   "outputs": [
    {
     "data": {
      "image/png": "[encoded data removed]",
      "text/plain": [
       "<matplotlib.figure.Figure at 0xd0afb38>"
      ]
     },
     "metadata": {},
     "output_type": "display_data"
    }
   ],
   "source": [
    "'''Scatter Plot between X (CHAS) & Y (Target)'''\n",
    "plt.scatter(X.CHAS, Y)\n",
    "plt.xlabel('X (Feature=CHAS)')\n",
    "plt.ylabel('Y (Target)')\n",
    "plt.show()"
   ]
  },
  {
   "cell_type": "raw",
   "metadata": {},
   "source": [
    "Price = 3.804RM\n",
    "\n",
    "RM is the Selected features for this target."
   ]
  },
  {
   "cell_type": "markdown",
   "metadata": {},
   "source": [
    "---"
   ]
  },
  {
   "cell_type": "markdown",
   "metadata": {},
   "source": [
    "# Prediction"
   ]
  },
  {
   "cell_type": "raw",
   "metadata": {},
   "source": [
    "1.0 Prediction: Train-test splits Using all features\n",
    "2.0 Prediction: Train-test splits Using two features RM, CHAS\n",
    "3.0 Prediction: Train-test splits Using only 1 feature RM\n",
    "    \n",
    "Comparison of Accuracies between 1,2,3.\n",
    "\n",
    "MORAL - Turns out using all features helps prediction somehow in a better way than selecting one."
   ]
  },
  {
   "cell_type": "markdown",
   "metadata": {},
   "source": [
    "## 1.0  Prediction: Train-test splits Using all features"
   ]
  },
  {
   "cell_type": "code",
   "execution_count": 12,
   "metadata": {
    "collapsed": true
   },
   "outputs": [],
   "source": [
    "X_train, X_test, Y_train, Y_test = sklearn.cross_validation.train_test_split(X,Y, train_size=0.80, random_state = 5)"
   ]
  },
  {
   "cell_type": "code",
   "execution_count": 13,
   "metadata": {},
   "outputs": [
    {
     "data": {
      "text/plain": [
       "LinearRegression(copy_X=True, fit_intercept=True, n_jobs=1, normalize=False)"
      ]
     },
     "execution_count": 13,
     "metadata": {},
     "output_type": "execute_result"
    }
   ],
   "source": [
    "lm = LinearRegression()\n",
    "\n",
    "lm.fit(X_train,Y_train)"
   ]
  },
  {
   "cell_type": "code",
   "execution_count": 14,
   "metadata": {
    "collapsed": true
   },
   "outputs": [],
   "source": [
    "Y_pred = lm.predict(X_test)\n",
    "Y_actual = Y_test"
   ]
  },
  {
   "cell_type": "code",
   "execution_count": 15,
   "metadata": {},
   "outputs": [
    {
     "data": {
      "text/html": [
       "<div>\n",
       "<style>\n",
       "    .dataframe thead tr:only-child th {\n",
       "        text-align: right;\n",
       "    }\n",
       "\n",
       "    .dataframe thead th {\n",
       "        text-align: left;\n",
       "    }\n",
       "\n",
       "    .dataframe tbody tr th {\n",
       "        vertical-align: top;\n",
       "    }\n",
       "</style>\n",
       "<table border=\"1\" class=\"dataframe\">\n",
       "  <thead>\n",
       "    <tr style=\"text-align: right;\">\n",
       "      <th></th>\n",
       "      <th>CRIM</th>\n",
       "      <th>ZN</th>\n",
       "      <th>INDUS</th>\n",
       "      <th>CHAS</th>\n",
       "      <th>NOX</th>\n",
       "      <th>RM</th>\n",
       "      <th>AGE</th>\n",
       "      <th>DIS</th>\n",
       "      <th>RAD</th>\n",
       "      <th>TAX</th>\n",
       "      <th>PTRATIO</th>\n",
       "      <th>B</th>\n",
       "      <th>LSTAT</th>\n",
       "      <th>Acutal_Y</th>\n",
       "      <th>Predicted_Y</th>\n",
       "      <th>Residual</th>\n",
       "    </tr>\n",
       "  </thead>\n",
       "  <tbody>\n",
       "    <tr>\n",
       "      <th>226</th>\n",
       "      <td>0.38214</td>\n",
       "      <td>0.0</td>\n",
       "      <td>6.20</td>\n",
       "      <td>0</td>\n",
       "      <td>0.504</td>\n",
       "      <td>8.040</td>\n",
       "      <td>86.5</td>\n",
       "      <td>3.2157</td>\n",
       "      <td>8</td>\n",
       "      <td>307</td>\n",
       "      <td>17.4</td>\n",
       "      <td>387.38</td>\n",
       "      <td>3.13</td>\n",
       "      <td>37.6</td>\n",
       "      <td>37.560692</td>\n",
       "      <td>-0.039308</td>\n",
       "    </tr>\n",
       "    <tr>\n",
       "      <th>292</th>\n",
       "      <td>0.03615</td>\n",
       "      <td>80.0</td>\n",
       "      <td>4.95</td>\n",
       "      <td>0</td>\n",
       "      <td>0.411</td>\n",
       "      <td>6.630</td>\n",
       "      <td>23.4</td>\n",
       "      <td>5.1167</td>\n",
       "      <td>4</td>\n",
       "      <td>245</td>\n",
       "      <td>19.2</td>\n",
       "      <td>396.90</td>\n",
       "      <td>4.70</td>\n",
       "      <td>27.9</td>\n",
       "      <td>32.145556</td>\n",
       "      <td>4.245556</td>\n",
       "    </tr>\n",
       "    <tr>\n",
       "      <th>90</th>\n",
       "      <td>0.04684</td>\n",
       "      <td>0.0</td>\n",
       "      <td>3.41</td>\n",
       "      <td>0</td>\n",
       "      <td>0.489</td>\n",
       "      <td>6.417</td>\n",
       "      <td>66.1</td>\n",
       "      <td>3.0923</td>\n",
       "      <td>2</td>\n",
       "      <td>270</td>\n",
       "      <td>17.8</td>\n",
       "      <td>392.18</td>\n",
       "      <td>8.81</td>\n",
       "      <td>22.6</td>\n",
       "      <td>27.068334</td>\n",
       "      <td>4.468334</td>\n",
       "    </tr>\n",
       "    <tr>\n",
       "      <th>373</th>\n",
       "      <td>11.10810</td>\n",
       "      <td>0.0</td>\n",
       "      <td>18.10</td>\n",
       "      <td>0</td>\n",
       "      <td>0.668</td>\n",
       "      <td>4.906</td>\n",
       "      <td>100.0</td>\n",
       "      <td>1.1742</td>\n",
       "      <td>24</td>\n",
       "      <td>666</td>\n",
       "      <td>20.2</td>\n",
       "      <td>396.90</td>\n",
       "      <td>34.77</td>\n",
       "      <td>13.8</td>\n",
       "      <td>5.666107</td>\n",
       "      <td>-8.133893</td>\n",
       "    </tr>\n",
       "    <tr>\n",
       "      <th>273</th>\n",
       "      <td>0.22188</td>\n",
       "      <td>20.0</td>\n",
       "      <td>6.96</td>\n",
       "      <td>1</td>\n",
       "      <td>0.464</td>\n",
       "      <td>7.691</td>\n",
       "      <td>51.8</td>\n",
       "      <td>4.3665</td>\n",
       "      <td>3</td>\n",
       "      <td>223</td>\n",
       "      <td>18.6</td>\n",
       "      <td>390.77</td>\n",
       "      <td>6.58</td>\n",
       "      <td>35.2</td>\n",
       "      <td>35.096983</td>\n",
       "      <td>-0.103017</td>\n",
       "    </tr>\n",
       "  </tbody>\n",
       "</table>\n",
       "</div>"
      ],
      "text/plain": [
       "         CRIM    ZN  INDUS  CHAS    NOX     RM    AGE     DIS  RAD  TAX  \\\n",
       "226   0.38214   0.0   6.20     0  0.504  8.040   86.5  3.2157    8  307   \n",
       "292   0.03615  80.0   4.95     0  0.411  6.630   23.4  5.1167    4  245   \n",
       "90    0.04684   0.0   3.41     0  0.489  6.417   66.1  3.0923    2  270   \n",
       "373  11.10810   0.0  18.10     0  0.668  4.906  100.0  1.1742   24  666   \n",
       "273   0.22188  20.0   6.96     1  0.464  7.691   51.8  4.3665    3  223   \n",
       "\n",
       "     PTRATIO       B  LSTAT  Acutal_Y  Predicted_Y  Residual  \n",
       "226     17.4  387.38   3.13      37.6    37.560692 -0.039308  \n",
       "292     19.2  396.90   4.70      27.9    32.145556  4.245556  \n",
       "90      17.8  392.18   8.81      22.6    27.068334  4.468334  \n",
       "373     20.2  396.90  34.77      13.8     5.666107 -8.133893  \n",
       "273     18.6  390.77   6.58      35.2    35.096983 -0.103017  "
      ]
     },
     "execution_count": 15,
     "metadata": {},
     "output_type": "execute_result"
    }
   ],
   "source": [
    "Combined_df = pd.DataFrame()\n",
    "Combined_df = Combined_df.append(X_test)\n",
    "Combined_df['Acutal_Y'] = Y_actual\n",
    "Combined_df['Predicted_Y'] = Y_pred\n",
    "Combined_df['Residual'] = Combined_df.apply(lambda row: row['Predicted_Y'] - row['Acutal_Y'], axis = 1)\n",
    "Combined_df.head()"
   ]
  },
  {
   "cell_type": "markdown",
   "metadata": {},
   "source": [
    "## 2.0 Prediction: Train-test splits Using two features RM, CHAS"
   ]
  },
  {
   "cell_type": "code",
   "execution_count": 16,
   "metadata": {},
   "outputs": [
    {
     "data": {
      "text/html": [
       "<div>\n",
       "<style>\n",
       "    .dataframe thead tr:only-child th {\n",
       "        text-align: right;\n",
       "    }\n",
       "\n",
       "    .dataframe thead th {\n",
       "        text-align: left;\n",
       "    }\n",
       "\n",
       "    .dataframe tbody tr th {\n",
       "        vertical-align: top;\n",
       "    }\n",
       "</style>\n",
       "<table border=\"1\" class=\"dataframe\">\n",
       "  <thead>\n",
       "    <tr style=\"text-align: right;\">\n",
       "      <th></th>\n",
       "      <th>RM</th>\n",
       "      <th>CHAS</th>\n",
       "      <th>Acutal_Y</th>\n",
       "      <th>Predicted_Y</th>\n",
       "      <th>Residual</th>\n",
       "    </tr>\n",
       "  </thead>\n",
       "  <tbody>\n",
       "    <tr>\n",
       "      <th>226</th>\n",
       "      <td>8.040</td>\n",
       "      <td>0</td>\n",
       "      <td>37.6</td>\n",
       "      <td>37.611533</td>\n",
       "      <td>0.011533</td>\n",
       "    </tr>\n",
       "    <tr>\n",
       "      <th>292</th>\n",
       "      <td>6.630</td>\n",
       "      <td>0</td>\n",
       "      <td>27.9</td>\n",
       "      <td>25.318241</td>\n",
       "      <td>-2.581759</td>\n",
       "    </tr>\n",
       "    <tr>\n",
       "      <th>90</th>\n",
       "      <td>6.417</td>\n",
       "      <td>0</td>\n",
       "      <td>22.6</td>\n",
       "      <td>23.461169</td>\n",
       "      <td>0.861169</td>\n",
       "    </tr>\n",
       "    <tr>\n",
       "      <th>373</th>\n",
       "      <td>4.906</td>\n",
       "      <td>0</td>\n",
       "      <td>13.8</td>\n",
       "      <td>10.287293</td>\n",
       "      <td>-3.512707</td>\n",
       "    </tr>\n",
       "    <tr>\n",
       "      <th>273</th>\n",
       "      <td>7.691</td>\n",
       "      <td>1</td>\n",
       "      <td>35.2</td>\n",
       "      <td>38.988887</td>\n",
       "      <td>3.788887</td>\n",
       "    </tr>\n",
       "  </tbody>\n",
       "</table>\n",
       "</div>"
      ],
      "text/plain": [
       "        RM  CHAS  Acutal_Y  Predicted_Y  Residual\n",
       "226  8.040     0      37.6    37.611533  0.011533\n",
       "292  6.630     0      27.9    25.318241 -2.581759\n",
       "90   6.417     0      22.6    23.461169  0.861169\n",
       "373  4.906     0      13.8    10.287293 -3.512707\n",
       "273  7.691     1      35.2    38.988887  3.788887"
      ]
     },
     "execution_count": 16,
     "metadata": {},
     "output_type": "execute_result"
    }
   ],
   "source": [
    "X_train1, X_test1, Y_train1, Y_test1 = sklearn.cross_validation.train_test_split(X[['RM', 'CHAS']], Y, train_size=0.80, random_state = 5)\n",
    "\n",
    "lm1 = LinearRegression()\n",
    "lm1.fit(X_train1, Y_train1)\n",
    "\n",
    "Y_pred1 = lm1.predict(X_test1)\n",
    "Y_actual1 = Y_test1\n",
    "\n",
    "Combined_df1 = pd.DataFrame()\n",
    "Combined_df1 = Combined_df1.append(X_test1)\n",
    "Combined_df1['Acutal_Y'] = Y_actual1\n",
    "Combined_df1['Predicted_Y'] = Y_pred1\n",
    "Combined_df1['Residual'] = Combined_df1.apply(lambda row: row['Predicted_Y'] - row['Acutal_Y'], axis = 1)\n",
    "Combined_df1.head()"
   ]
  },
  {
   "cell_type": "markdown",
   "metadata": {},
   "source": [
    "## 3.0 Prediction: Train-test splits Using only 1 feature RM"
   ]
  },
  {
   "cell_type": "code",
   "execution_count": 17,
   "metadata": {},
   "outputs": [
    {
     "data": {
      "text/html": [
       "<div>\n",
       "<style>\n",
       "    .dataframe thead tr:only-child th {\n",
       "        text-align: right;\n",
       "    }\n",
       "\n",
       "    .dataframe thead th {\n",
       "        text-align: left;\n",
       "    }\n",
       "\n",
       "    .dataframe tbody tr th {\n",
       "        vertical-align: top;\n",
       "    }\n",
       "</style>\n",
       "<table border=\"1\" class=\"dataframe\">\n",
       "  <thead>\n",
       "    <tr style=\"text-align: right;\">\n",
       "      <th></th>\n",
       "      <th>RM</th>\n",
       "      <th>Acutal_Y</th>\n",
       "      <th>Predicted_Y</th>\n",
       "      <th>Residual</th>\n",
       "    </tr>\n",
       "  </thead>\n",
       "  <tbody>\n",
       "    <tr>\n",
       "      <th>226</th>\n",
       "      <td>8.040</td>\n",
       "      <td>37.6</td>\n",
       "      <td>38.101459</td>\n",
       "      <td>0.501459</td>\n",
       "    </tr>\n",
       "    <tr>\n",
       "      <th>292</th>\n",
       "      <td>6.630</td>\n",
       "      <td>27.9</td>\n",
       "      <td>25.660386</td>\n",
       "      <td>-2.239614</td>\n",
       "    </tr>\n",
       "    <tr>\n",
       "      <th>90</th>\n",
       "      <td>6.417</td>\n",
       "      <td>22.6</td>\n",
       "      <td>23.780989</td>\n",
       "      <td>1.180989</td>\n",
       "    </tr>\n",
       "    <tr>\n",
       "      <th>373</th>\n",
       "      <td>4.906</td>\n",
       "      <td>13.8</td>\n",
       "      <td>10.448747</td>\n",
       "      <td>-3.351253</td>\n",
       "    </tr>\n",
       "    <tr>\n",
       "      <th>273</th>\n",
       "      <td>7.691</td>\n",
       "      <td>35.2</td>\n",
       "      <td>35.022073</td>\n",
       "      <td>-0.177927</td>\n",
       "    </tr>\n",
       "  </tbody>\n",
       "</table>\n",
       "</div>"
      ],
      "text/plain": [
       "        RM  Acutal_Y  Predicted_Y  Residual\n",
       "226  8.040      37.6    38.101459  0.501459\n",
       "292  6.630      27.9    25.660386 -2.239614\n",
       "90   6.417      22.6    23.780989  1.180989\n",
       "373  4.906      13.8    10.448747 -3.351253\n",
       "273  7.691      35.2    35.022073 -0.177927"
      ]
     },
     "execution_count": 17,
     "metadata": {},
     "output_type": "execute_result"
    }
   ],
   "source": [
    "X_train2, X_test2, Y_train2, Y_test2 = sklearn.cross_validation.train_test_split(X[['RM']],Y, train_size=0.80, random_state = 5)\n",
    "\n",
    "lm2 = LinearRegression()\n",
    "lm2.fit(X_train2, Y_train2)\n",
    "\n",
    "Y_pred2 = lm2.predict(X_test2)\n",
    "Y_actual2 = Y_test2\n",
    "\n",
    "Combined_df2 = pd.DataFrame()\n",
    "Combined_df2 = Combined_df2.append(X_test2)\n",
    "Combined_df2['Acutal_Y'] = Y_actual2\n",
    "Combined_df2['Predicted_Y'] = Y_pred2\n",
    "Combined_df2['Residual'] = Combined_df2.apply(lambda row: row['Predicted_Y'] - row['Acutal_Y'], axis = 1)\n",
    "Combined_df2.head()"
   ]
  },
  {
   "cell_type": "markdown",
   "metadata": {},
   "source": [
    "### Plots using only 1 feature = RM"
   ]
  },
  {
   "cell_type": "code",
   "execution_count": 18,
   "metadata": {},
   "outputs": [
    {
     "data": {
      "text/plain": [
       "<matplotlib.text.Text at 0xd368b00>"
      ]
     },
     "execution_count": 18,
     "metadata": {},
     "output_type": "execute_result"
    },
    {
     "data": {
      "image/png": "[encoded data removed]",
      "text/plain": [
       "<matplotlib.figure.Figure at 0xd10c080>"
      ]
     },
     "metadata": {},
     "output_type": "display_data"
    }
   ],
   "source": [
    "plt.scatter(X_test2, Y_test2)\n",
    "plt.plot(X_test2, Y_pred2)\n",
    "plt.xlabel('X (Feature=RM)')\n",
    "plt.ylabel('Y and Y_hat BFLine')"
   ]
  },
  {
   "cell_type": "markdown",
   "metadata": {},
   "source": [
    "----"
   ]
  },
  {
   "cell_type": "markdown",
   "metadata": {},
   "source": [
    "### COMBINED"
   ]
  },
  {
   "cell_type": "code",
   "execution_count": 19,
   "metadata": {},
   "outputs": [
    {
     "data": {
      "text/html": [
       "<div>\n",
       "<style>\n",
       "    .dataframe thead tr:only-child th {\n",
       "        text-align: right;\n",
       "    }\n",
       "\n",
       "    .dataframe thead th {\n",
       "        text-align: left;\n",
       "    }\n",
       "\n",
       "    .dataframe tbody tr th {\n",
       "        vertical-align: top;\n",
       "    }\n",
       "</style>\n",
       "<table border=\"1\" class=\"dataframe\">\n",
       "  <thead>\n",
       "    <tr style=\"text-align: right;\">\n",
       "      <th></th>\n",
       "      <th>Actual Price</th>\n",
       "      <th>Predicted Price (all f)</th>\n",
       "      <th>Predicted Price (two f)</th>\n",
       "      <th>Predicted Price (one f)</th>\n",
       "    </tr>\n",
       "  </thead>\n",
       "  <tbody>\n",
       "    <tr>\n",
       "      <th>226</th>\n",
       "      <td>37.6</td>\n",
       "      <td>37.560692</td>\n",
       "      <td>37.611533</td>\n",
       "      <td>38.101459</td>\n",
       "    </tr>\n",
       "    <tr>\n",
       "      <th>292</th>\n",
       "      <td>27.9</td>\n",
       "      <td>32.145556</td>\n",
       "      <td>25.318241</td>\n",
       "      <td>25.660386</td>\n",
       "    </tr>\n",
       "    <tr>\n",
       "      <th>90</th>\n",
       "      <td>22.6</td>\n",
       "      <td>27.068334</td>\n",
       "      <td>23.461169</td>\n",
       "      <td>23.780989</td>\n",
       "    </tr>\n",
       "    <tr>\n",
       "      <th>373</th>\n",
       "      <td>13.8</td>\n",
       "      <td>5.666107</td>\n",
       "      <td>10.287293</td>\n",
       "      <td>10.448747</td>\n",
       "    </tr>\n",
       "    <tr>\n",
       "      <th>273</th>\n",
       "      <td>35.2</td>\n",
       "      <td>35.096983</td>\n",
       "      <td>38.988887</td>\n",
       "      <td>35.022073</td>\n",
       "    </tr>\n",
       "  </tbody>\n",
       "</table>\n",
       "</div>"
      ],
      "text/plain": [
       "     Actual Price  Predicted Price (all f)  Predicted Price (two f)  \\\n",
       "226          37.6                37.560692                37.611533   \n",
       "292          27.9                32.145556                25.318241   \n",
       "90           22.6                27.068334                23.461169   \n",
       "373          13.8                 5.666107                10.287293   \n",
       "273          35.2                35.096983                38.988887   \n",
       "\n",
       "     Predicted Price (one f)  \n",
       "226                38.101459  \n",
       "292                25.660386  \n",
       "90                 23.780989  \n",
       "373                10.448747  \n",
       "273                35.022073  "
      ]
     },
     "execution_count": 19,
     "metadata": {},
     "output_type": "execute_result"
    }
   ],
   "source": [
    "Compare_df = pd.DataFrame()\n",
    "Compare_df['Actual Price'] = Y_actual\n",
    "Compare_df['Predicted Price (all f)'] = Y_pred\n",
    "Compare_df['Predicted Price (two f)'] = Y_pred1\n",
    "Compare_df['Predicted Price (one f)'] = Y_pred2\n",
    "Compare_df.head()"
   ]
  },
  {
   "cell_type": "markdown",
   "metadata": {},
   "source": [
    "# Accuracy of Models"
   ]
  },
  {
   "cell_type": "raw",
   "metadata": {},
   "source": [
    "1.0 Accuracy of model using all features\n",
    "2.0 Accuracy of model using two features\n",
    "3.0 Accuracy of model using 1 features"
   ]
  },
  {
   "cell_type": "markdown",
   "metadata": {},
   "source": [
    "## 1.0 Accuracy of model using all features"
   ]
  },
  {
   "cell_type": "code",
   "execution_count": 20,
   "metadata": {},
   "outputs": [
    {
     "name": "stdout",
     "output_type": "stream",
     "text": [
      "MAE 3.2145117813\n",
      "MSE 20.9028436804\n",
      "RMSE 4.57196278204\n",
      "R^2 0.733020681871\n"
     ]
    }
   ],
   "source": [
    "# MAE\n",
    "print 'MAE', metrics.mean_absolute_error(Y_actual, Y_pred)\n",
    "\n",
    "# MSE\n",
    "print 'MSE', metrics.mean_squared_error(Y_actual, Y_pred)\n",
    "\n",
    "# RMSE\n",
    "print 'RMSE', np.sqrt(metrics.mean_squared_error(Y_actual, Y_pred))\n",
    "\n",
    "# R^2/Model Score - Alternative: model.score(X_test,Y_test)\n",
    "print 'R^2', metrics.r2_score(Y_actual, Y_pred)"
   ]
  },
  {
   "cell_type": "markdown",
   "metadata": {},
   "source": [
    "- Lower the MAE, MSE, RMSE better is the Model.\n",
    "- R2 ranges between 0 to 1. ==> 0-Worst fit, ..1-best fit"
   ]
  },
  {
   "cell_type": "markdown",
   "metadata": {},
   "source": [
    "##### Scatter Plot between Predicted vs Actual Values"
   ]
  },
  {
   "cell_type": "code",
   "execution_count": 22,
   "metadata": {},
   "outputs": [
    {
     "data": {
      "image/png": "[encoded data removed]",
      "text/plain": [
       "<matplotlib.figure.Figure at 0xd22db00>"
      ]
     },
     "metadata": {},
     "output_type": "display_data"
    }
   ],
   "source": [
    "plt.scatter(Y_pred, Y_actual, c=['blue','black'])\n",
    "plt.xlabel('Predicted Values')\n",
    "plt.ylabel('Actual Values')\n",
    "plt.show()"
   ]
  },
  {
   "cell_type": "markdown",
   "metadata": {},
   "source": [
    "##### Residual PLOT"
   ]
  },
  {
   "cell_type": "markdown",
   "metadata": {},
   "source": [
    "Residual Plot is plotted between:\n",
    "    1. Predicted Values\n",
    "    2. Residuals (Predicted_values - Actual_values)\n",
    "    \n",
    "    Residual plots are a good way to visualize the errors in your data.  If you have done a good then it should be randomly scattered around line zero. If you see structure in your data, that means your model is not capturing some thing."
   ]
  },
  {
   "cell_type": "code",
   "execution_count": 23,
   "metadata": {
    "scrolled": false
   },
   "outputs": [
    {
     "data": {
      "image/png": "[encoded data removed]",
      "text/plain": [
       "<matplotlib.figure.Figure at 0xd117da0>"
      ]
     },
     "metadata": {},
     "output_type": "display_data"
    }
   ],
   "source": [
    "plt.scatter(Combined_df.Predicted_Y, Combined_df.Residual)\n",
    "plt.xlabel('Predcited Values 20%')\n",
    "plt.ylabel('Residuals (Predicted - ACtual)20%')\n",
    "plt.hlines(y=0, xmin =0, xmax = 50)\n",
    "plt.show()"
   ]
  },
  {
   "cell_type": "markdown",
   "metadata": {},
   "source": [
    "## 2.0 Accuracy of model using two features"
   ]
  },
  {
   "cell_type": "code",
   "execution_count": 25,
   "metadata": {},
   "outputs": [
    {
     "name": "stdout",
     "output_type": "stream",
     "text": [
      "MAE 3.47978808132\n",
      "MSE 23.6462252616\n",
      "RMSE 4.86273845293\n",
      "R^2 0.697981136289\n",
      "Accuracy 69.7981136289\n"
     ]
    },
    {
     "data": {
      "image/png": "[encoded data removed]",
      "text/plain": [
       "<matplotlib.figure.Figure at 0xd17da58>"
      ]
     },
     "metadata": {},
     "output_type": "display_data"
    }
   ],
   "source": [
    "# MAE\n",
    "print 'MAE', metrics.mean_absolute_error(Y_actual1, Y_pred1)\n",
    "\n",
    "# MSE\n",
    "print 'MSE', metrics.mean_squared_error(Y_actual1, Y_pred1)\n",
    "\n",
    "# RMSE\n",
    "print 'RMSE', np.sqrt(metrics.mean_squared_error(Y_actual1, Y_pred1))\n",
    "\n",
    "# R^2\n",
    "print 'R^2', metrics.r2_score(Y_actual1, Y_pred1)\n",
    "\n",
    "# Predictive accuracy\n",
    "print 'Accuracy', lm1.score(X_test1,Y_test1)*100\n",
    "\n",
    "plt.scatter(Y_pred1, Y_actual1, c=['blue','black'])\n",
    "plt.xlabel('Predicted Values')\n",
    "plt.ylabel('Actual Values')\n",
    "plt.show()"
   ]
  },
  {
   "cell_type": "markdown",
   "metadata": {},
   "source": [
    "## 3.0 Accuracy of model using only 1 feature"
   ]
  },
  {
   "cell_type": "code",
   "execution_count": 26,
   "metadata": {},
   "outputs": [
    {
     "name": "stdout",
     "output_type": "stream",
     "text": [
      "MAE 3.47000490494\n",
      "MSE 23.970455528\n",
      "RMSE 4.89596318695\n",
      "R^2 0.693839940155\n",
      "Accuracy 69.3839940155\n"
     ]
    },
    {
     "data": {
      "image/png": "[encoded data removed]",
      "text/plain": [
       "<matplotlib.figure.Figure at 0xd6eb4e0>"
      ]
     },
     "metadata": {},
     "output_type": "display_data"
    }
   ],
   "source": [
    "# MAE\n",
    "print 'MAE', metrics.mean_absolute_error(Y_actual2, Y_pred2)\n",
    "\n",
    "# MSE\n",
    "print 'MSE', metrics.mean_squared_error(Y_actual2, Y_pred2)\n",
    "\n",
    "# RMSE\n",
    "print 'RMSE', np.sqrt(metrics.mean_squared_error(Y_actual2, Y_pred2))\n",
    "\n",
    "# R^2\n",
    "print 'R^2', metrics.r2_score(Y_actual2, Y_pred2)\n",
    "\n",
    "# Predictive accuracy\n",
    "print 'Accuracy', lm2.score(X_test2,Y_test2)*100\n",
    "\n",
    "plt.scatter(Y_pred2, Y_actual2, c=['blue','black'])\n",
    "plt.xlabel('Predicted Values')\n",
    "plt.ylabel('Actual Values')\n",
    "plt.show()"
   ]
  },
  {
   "cell_type": "code",
   "execution_count": 27,
   "metadata": {
    "scrolled": false
   },
   "outputs": [
    {
     "data": {
      "text/plain": [
       "<seaborn.axisgrid.PairGrid at 0xd25c0b8>"
      ]
     },
     "execution_count": 27,
     "metadata": {},
     "output_type": "execute_result"
    },
    {
     "data": {
      "image/png": "[encoded data removed]",
      "text/plain": [
       "<matplotlib.figure.Figure at 0xd25c940>"
      ]
     },
     "metadata": {},
     "output_type": "display_data"
    }
   ],
   "source": [
    "sns.pairplot(Compare_df, x_vars=['Predicted Price (all f)', 'Predicted Price (two f)', 'Predicted Price (one f)'], \n",
    "             y_vars='Actual Price' , size=7, aspect=0.7, kind='reg',markers = '*')"
   ]
  },
  {
   "cell_type": "markdown",
   "metadata": {},
   "source": [
    "."
   ]
  },
  {
   "cell_type": "markdown",
   "metadata": {},
   "source": [
    "## Cross- Validation"
   ]
  },
  {
   "cell_type": "markdown",
   "metadata": {},
   "source": [
    "### `Using Cross Validation instead of Train/Test splitting`"
   ]
  },
  {
   "cell_type": "markdown",
   "metadata": {
    "collapsed": true
   },
   "source": [
    "- It’s very similar to train/test split, but it’s applied to more subsets. Meaning, we split our data into k subsets, and train on k-1 one of those subset, and average the final accuracy on each subset to get the final score"
   ]
  },
  {
   "cell_type": "markdown",
   "metadata": {
    "collapsed": true
   },
   "source": [
    "- There are a bunch of cross validation methods. Basic two of them are: \n",
    "    1. K-Folds Cross Validation\n",
    "    2. Leave One Out Cross Validation (LOOCV)\n"
   ]
  },
  {
   "cell_type": "markdown",
   "metadata": {
    "collapsed": true
   },
   "source": [
    "#### K-Folds Cross Validation"
   ]
  },
  {
   "cell_type": "markdown",
   "metadata": {
    "collapsed": true
   },
   "source": [
    "- In big datasets, K = 3 is usually advised. \n",
    "- In smaller datasets, K = 10 or, it’s best to use LOOCV."
   ]
  },
  {
   "cell_type": "code",
   "execution_count": 88,
   "metadata": {},
   "outputs": [
    {
     "data": {
      "text/plain": [
       "73.302068187093369"
      ]
     },
     "execution_count": 88,
     "metadata": {},
     "output_type": "execute_result"
    }
   ],
   "source": [
    "# 1. Train/Test Splitting - \n",
    "X_train, X_test, Y_train, Y_test = sklearn.cross_validation.train_test_split(X,Y, train_size=0.80, random_state = 5)\n",
    "\n",
    "lm = LinearRegression()\n",
    "lm.fit(X_train, Y_train)\n",
    "Y_test_hat = lm.predict(X_test)\n",
    "metrics.r2_score(Y_test, Y_test_hat)*100"
   ]
  },
  {
   "cell_type": "code",
   "execution_count": 89,
   "metadata": {},
   "outputs": [
    {
     "data": {
      "text/plain": [
       "61.521401673631772"
      ]
     },
     "execution_count": 89,
     "metadata": {},
     "output_type": "execute_result"
    }
   ],
   "source": [
    "# 2. Cross Validation using K_folds - \n",
    "model = LinearRegression()\n",
    "\n",
    "K_fold = model_selection.KFold(n_splits=15, random_state=7)\n",
    "Y_hat = model_selection.cross_val_predict(model, X, Y, cv=K_fold)\n",
    "metrics.r2_score(Y, Y_hat)*100"
   ]
  },
  {
   "cell_type": "markdown",
   "metadata": {},
   "source": [
    "\n",
    "\n",
    ".\n",
    "\n",
    "\n",
    "."
   ]
  },
  {
   "cell_type": "markdown",
   "metadata": {},
   "source": [
    "# Regularisation"
   ]
  },
  {
   "cell_type": "markdown",
   "metadata": {},
   "source": [
    "https://www.analyticsvidhya.com/blog/2016/01/complete-tutorial-ridge-lasso-regression-python/"
   ]
  },
  {
   "cell_type": "markdown",
   "metadata": {},
   "source": [
    "What does that bias and variance actually mean? Let us understand this by an example of archery targets.\n",
    "\n",
    "Let’s say we have model which is very accurate, therefore the error of our model will be low, meaning a low bias and low variance as shown in first figure. All the data points fit within the bulls-eye. Similarly we can say that if the variance increases, the spread of our data point increases which results in less accurate prediction. And as the bias increases the error between our predicted value and the observed values increases."
   ]
  },
  {
   "cell_type": "markdown",
   "metadata": {},
   "source": [
    "<img src='Data/5.PNG'>"
   ]
  },
  {
   "cell_type": "markdown",
   "metadata": {},
   "source": [
    "> Now how this bias and variance is balanced to have a perfect model? Take a look at the image below and try to understand"
   ]
  },
  {
   "cell_type": "markdown",
   "metadata": {},
   "source": [
    "<img src='Data/6.PNG'>"
   ]
  },
  {
   "cell_type": "markdown",
   "metadata": {},
   "source": [
    "As we add more and more parameters to our model, its complexity increases, which results in increasing variance and decreasing bias, i.e., overfitting. So we need to find out one optimum point in our model where the decrease in bias is equal to increase in variance. In practice, there is no analytical way to find this point. So how to deal with high variance or high bias?\n",
    "\n",
    "To overcome underfitting or high bias, we can basically add new parameters to our model so that the model complexity increases, and thus reducing high bias.\n",
    "\n",
    "Now, how can we overcome Overfitting for a regression model?\n",
    "\n",
    "Basically there are two methods to overcome overfitting,\n",
    "\n",
    "- Reduce the model complexity\n",
    "- Regularization"
   ]
  },
  {
   "cell_type": "markdown",
   "metadata": {},
   "source": [
    "- **Underfitting of model** - Less features/Less model complexity/High Bias/Low Variance = (Solution) Increase features\n",
    "- **Fitting** - Optimum features/Optimum model complexity/Decrease in Bias = Increase in Variance/Minima Point\n",
    "- **Overfitting of model** - More features/More model complexity/Low Bias/High Variance = (Solution) Decreas features OR Regularisation(introduce a Penalty) "
   ]
  },
  {
   "cell_type": "markdown",
   "metadata": {},
   "source": [
    "**Types**\n",
    "1. Ridge Regularisation Regression (L2 Regularisation)\n",
    "2. Lasso Regularisation Regression (L1 Regularisation)"
   ]
  },
  {
   "cell_type": "markdown",
   "metadata": {},
   "source": [
    "## 1. Ridge Regression"
   ]
  },
  {
   "cell_type": "markdown",
   "metadata": {},
   "source": [
    "`(Minimise) Cost Function = Least_Squares_Critierion + α(Sum of Square of coefficients)`\n",
    "\n",
    "- α = 0 :      Simple Linear Regression\n",
    "- α = value :  Ridge/Lasso Penalty"
   ]
  },
  {
   "cell_type": "code",
   "execution_count": 115,
   "metadata": {},
   "outputs": [
    {
     "data": {
      "text/plain": [
       "63.128819453797782"
      ]
     },
     "execution_count": 115,
     "metadata": {},
     "output_type": "execute_result"
    }
   ],
   "source": [
    "# Ridge using CV - \n",
    "Rm = Ridge(alpha=0.05, normalize=True)\n",
    "K = model_selection.KFold(n_splits=15, random_state=7)\n",
    "y_hat = model_selection.cross_val_predict(Rm, X, Y, cv=K)\n",
    "metrics.r2_score(Y, y_hat)*100"
   ]
  },
  {
   "cell_type": "code",
   "execution_count": 116,
   "metadata": {},
   "outputs": [
    {
     "data": {
      "text/plain": [
       "73.468600924036963"
      ]
     },
     "execution_count": 116,
     "metadata": {},
     "output_type": "execute_result"
    }
   ],
   "source": [
    "# Ridge using Train/Test splits -\n",
    "Rm = Ridge(alpha=0.48, normalize=True)\n",
    "Rm.fit(X_train, Y_train)\n",
    "Y_test_hat = Rm.predict(X_test)\n",
    "metrics.r2_score(Y_test, Y_test_hat)*100"
   ]
  },
  {
   "cell_type": "markdown",
   "metadata": {},
   "source": [
    "## 2. Lasso Regression"
   ]
  },
  {
   "cell_type": "markdown",
   "metadata": {},
   "source": [
    "`(Minimise) Cost Function = Least_Squares_Critierion + α(Sum of absolute value of coefficients)`"
   ]
  },
  {
   "cell_type": "code",
   "execution_count": 121,
   "metadata": {},
   "outputs": [
    {
     "data": {
      "text/plain": [
       "55.442341864934484"
      ]
     },
     "execution_count": 121,
     "metadata": {},
     "output_type": "execute_result"
    }
   ],
   "source": [
    "# Lasso using CV - \n",
    "K = model_selection.KFold(n_splits=10,random_state=7)\n",
    "Ls = Lasso(alpha=0.05, normalize=True)\n",
    "Y_hat = model_selection.cross_val_predict(Ls, X, Y, cv=K)\n",
    "metrics.r2_score(Y, Y_hat)*100"
   ]
  },
  {
   "cell_type": "code",
   "execution_count": 122,
   "metadata": {},
   "outputs": [
    {
     "data": {
      "text/plain": [
       "69.517995726055233"
      ]
     },
     "execution_count": 122,
     "metadata": {},
     "output_type": "execute_result"
    }
   ],
   "source": [
    "Ls = Lasso(alpha=0.05, normalize=True)\n",
    "Ls.fit(X_train, Y_train)\n",
    "Y_test_hat = Ls.predict(X_test)\n",
    "metrics.r2_score(Y_test, Y_test_hat)*100"
   ]
  },
  {
   "cell_type": "code",
   "execution_count": 125,
   "metadata": {
    "scrolled": true
   },
   "outputs": [
    {
     "data": {
      "text/html": [
       "<div>\n",
       "<style>\n",
       "    .dataframe thead tr:only-child th {\n",
       "        text-align: right;\n",
       "    }\n",
       "\n",
       "    .dataframe thead th {\n",
       "        text-align: left;\n",
       "    }\n",
       "\n",
       "    .dataframe tbody tr th {\n",
       "        vertical-align: top;\n",
       "    }\n",
       "</style>\n",
       "<table border=\"1\" class=\"dataframe\">\n",
       "  <thead>\n",
       "    <tr style=\"text-align: right;\">\n",
       "      <th></th>\n",
       "      <th>Coefficents Lasso</th>\n",
       "      <th>Coefficents Ridge</th>\n",
       "      <th>Coefficents Simple LR</th>\n",
       "      <th>Features</th>\n",
       "    </tr>\n",
       "  </thead>\n",
       "  <tbody>\n",
       "    <tr>\n",
       "      <th>0</th>\n",
       "      <td>-0.000000</td>\n",
       "      <td>-0.079720</td>\n",
       "      <td>-0.130297</td>\n",
       "      <td>CRIM</td>\n",
       "    </tr>\n",
       "    <tr>\n",
       "      <th>1</th>\n",
       "      <td>0.000000</td>\n",
       "      <td>0.023365</td>\n",
       "      <td>0.049374</td>\n",
       "      <td>ZN</td>\n",
       "    </tr>\n",
       "    <tr>\n",
       "      <th>2</th>\n",
       "      <td>-0.000000</td>\n",
       "      <td>-0.071741</td>\n",
       "      <td>0.001527</td>\n",
       "      <td>INDUS</td>\n",
       "    </tr>\n",
       "    <tr>\n",
       "      <th>3</th>\n",
       "      <td>0.000000</td>\n",
       "      <td>2.766648</td>\n",
       "      <td>2.707557</td>\n",
       "      <td>CHAS</td>\n",
       "    </tr>\n",
       "    <tr>\n",
       "      <th>4</th>\n",
       "      <td>-0.000000</td>\n",
       "      <td>-4.667792</td>\n",
       "      <td>-16.007462</td>\n",
       "      <td>NOX</td>\n",
       "    </tr>\n",
       "    <tr>\n",
       "      <th>5</th>\n",
       "      <td>3.260735</td>\n",
       "      <td>3.355724</td>\n",
       "      <td>3.407416</td>\n",
       "      <td>RM</td>\n",
       "    </tr>\n",
       "    <tr>\n",
       "      <th>6</th>\n",
       "      <td>-0.000000</td>\n",
       "      <td>-0.008856</td>\n",
       "      <td>0.001183</td>\n",
       "      <td>AGE</td>\n",
       "    </tr>\n",
       "    <tr>\n",
       "      <th>7</th>\n",
       "      <td>-0.000000</td>\n",
       "      <td>-0.494187</td>\n",
       "      <td>-1.493811</td>\n",
       "      <td>DIS</td>\n",
       "    </tr>\n",
       "    <tr>\n",
       "      <th>8</th>\n",
       "      <td>-0.000000</td>\n",
       "      <td>0.035733</td>\n",
       "      <td>0.364266</td>\n",
       "      <td>RAD</td>\n",
       "    </tr>\n",
       "    <tr>\n",
       "      <th>9</th>\n",
       "      <td>-0.000000</td>\n",
       "      <td>-0.002311</td>\n",
       "      <td>-0.013165</td>\n",
       "      <td>TAX</td>\n",
       "    </tr>\n",
       "    <tr>\n",
       "      <th>10</th>\n",
       "      <td>-0.649409</td>\n",
       "      <td>-0.656292</td>\n",
       "      <td>-0.953458</td>\n",
       "      <td>PTRATIO</td>\n",
       "    </tr>\n",
       "    <tr>\n",
       "      <th>11</th>\n",
       "      <td>0.001894</td>\n",
       "      <td>0.008641</td>\n",
       "      <td>0.011869</td>\n",
       "      <td>B</td>\n",
       "    </tr>\n",
       "    <tr>\n",
       "      <th>12</th>\n",
       "      <td>-0.568134</td>\n",
       "      <td>-0.370963</td>\n",
       "      <td>-0.594884</td>\n",
       "      <td>LSTAT</td>\n",
       "    </tr>\n",
       "  </tbody>\n",
       "</table>\n",
       "</div>"
      ],
      "text/plain": [
       "    Coefficents Lasso  Coefficents Ridge  Coefficents Simple LR Features\n",
       "0           -0.000000          -0.079720              -0.130297     CRIM\n",
       "1            0.000000           0.023365               0.049374       ZN\n",
       "2           -0.000000          -0.071741               0.001527    INDUS\n",
       "3            0.000000           2.766648               2.707557     CHAS\n",
       "4           -0.000000          -4.667792             -16.007462      NOX\n",
       "5            3.260735           3.355724               3.407416       RM\n",
       "6           -0.000000          -0.008856               0.001183      AGE\n",
       "7           -0.000000          -0.494187              -1.493811      DIS\n",
       "8           -0.000000           0.035733               0.364266      RAD\n",
       "9           -0.000000          -0.002311              -0.013165      TAX\n",
       "10          -0.649409          -0.656292              -0.953458  PTRATIO\n",
       "11           0.001894           0.008641               0.011869        B\n",
       "12          -0.568134          -0.370963              -0.594884    LSTAT"
      ]
     },
     "execution_count": 125,
     "metadata": {},
     "output_type": "execute_result"
    }
   ],
   "source": [
    "pd.DataFrame({'Features': X.columns, 'Coefficents Simple LR':lm.coef_, 'Coefficents Ridge':Rm.coef_, 'Coefficents Lasso':Ls.coef_}) "
   ]
  },
  {
   "cell_type": "markdown",
   "metadata": {},
   "source": [
    "___"
   ]
  },
  {
   "cell_type": "markdown",
   "metadata": {},
   "source": [
    "# Gradient Descent Algorithm"
   ]
  },
  {
   "cell_type": "code",
   "execution_count": 9,
   "metadata": {
    "collapsed": true
   },
   "outputs": [],
   "source": [
    "data = pd.DataFrame({'House_Size': [1400,1600,1700,1875,1100,1550,2350,2450,1425,1700],\n",
    "                     'House_Price': [245000,312000,279000,308000,199000,219000,405000,324000,319000,255000]})"
   ]
  },
  {
   "cell_type": "code",
   "execution_count": 10,
   "metadata": {},
   "outputs": [
    {
     "data": {
      "text/html": [
       "<div>\n",
       "<style>\n",
       "    .dataframe thead tr:only-child th {\n",
       "        text-align: right;\n",
       "    }\n",
       "\n",
       "    .dataframe thead th {\n",
       "        text-align: left;\n",
       "    }\n",
       "\n",
       "    .dataframe tbody tr th {\n",
       "        vertical-align: top;\n",
       "    }\n",
       "</style>\n",
       "<table border=\"1\" class=\"dataframe\">\n",
       "  <thead>\n",
       "    <tr style=\"text-align: right;\">\n",
       "      <th></th>\n",
       "      <th>House_Price</th>\n",
       "      <th>House_Size</th>\n",
       "    </tr>\n",
       "  </thead>\n",
       "  <tbody>\n",
       "    <tr>\n",
       "      <th>0</th>\n",
       "      <td>245000</td>\n",
       "      <td>1400</td>\n",
       "    </tr>\n",
       "    <tr>\n",
       "      <th>1</th>\n",
       "      <td>312000</td>\n",
       "      <td>1600</td>\n",
       "    </tr>\n",
       "    <tr>\n",
       "      <th>2</th>\n",
       "      <td>279000</td>\n",
       "      <td>1700</td>\n",
       "    </tr>\n",
       "    <tr>\n",
       "      <th>3</th>\n",
       "      <td>308000</td>\n",
       "      <td>1875</td>\n",
       "    </tr>\n",
       "    <tr>\n",
       "      <th>4</th>\n",
       "      <td>199000</td>\n",
       "      <td>1100</td>\n",
       "    </tr>\n",
       "    <tr>\n",
       "      <th>5</th>\n",
       "      <td>219000</td>\n",
       "      <td>1550</td>\n",
       "    </tr>\n",
       "    <tr>\n",
       "      <th>6</th>\n",
       "      <td>405000</td>\n",
       "      <td>2350</td>\n",
       "    </tr>\n",
       "    <tr>\n",
       "      <th>7</th>\n",
       "      <td>324000</td>\n",
       "      <td>2450</td>\n",
       "    </tr>\n",
       "    <tr>\n",
       "      <th>8</th>\n",
       "      <td>319000</td>\n",
       "      <td>1425</td>\n",
       "    </tr>\n",
       "    <tr>\n",
       "      <th>9</th>\n",
       "      <td>255000</td>\n",
       "      <td>1700</td>\n",
       "    </tr>\n",
       "  </tbody>\n",
       "</table>\n",
       "</div>"
      ],
      "text/plain": [
       "   House_Price  House_Size\n",
       "0       245000        1400\n",
       "1       312000        1600\n",
       "2       279000        1700\n",
       "3       308000        1875\n",
       "4       199000        1100\n",
       "5       219000        1550\n",
       "6       405000        2350\n",
       "7       324000        2450\n",
       "8       319000        1425\n",
       "9       255000        1700"
      ]
     },
     "execution_count": 10,
     "metadata": {},
     "output_type": "execute_result"
    }
   ],
   "source": [
    "data"
   ]
  },
  {
   "cell_type": "code",
   "execution_count": 35,
   "metadata": {},
   "outputs": [
    {
     "data": {
      "text/plain": [
       "<matplotlib.axes._subplots.AxesSubplot at 0xf714f28>"
      ]
     },
     "execution_count": 35,
     "metadata": {},
     "output_type": "execute_result"
    },
    {
     "data": {
      "image/png": "[encoded data removed]",
      "text/plain": [
       "<matplotlib.figure.Figure at 0xde38518>"
      ]
     },
     "metadata": {},
     "output_type": "display_data"
    }
   ],
   "source": [
    "data.plot(x='House_Size',y='House_Price', style='o')"
   ]
  }
 ],
 "metadata": {
  "kernelspec": {
   "display_name": "Python 2",
   "language": "python",
   "name": "python2"
  },
  "language_info": {
   "codemirror_mode": {
    "name": "ipython",
    "version": 2
   },
   "file_extension": ".py",
   "mimetype": "text/x-python",
   "name": "python",
   "nbconvert_exporter": "python",
   "pygments_lexer": "ipython2",
   "version": "2.7.13"
  }
 },
 "nbformat": 4,
 "nbformat_minor": 2
}
